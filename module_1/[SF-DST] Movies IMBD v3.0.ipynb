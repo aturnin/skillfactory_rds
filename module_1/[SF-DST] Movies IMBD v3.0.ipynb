{
 "cells": [
  {
   "cell_type": "code",
   "execution_count": 92,
   "metadata": {
    "_cell_guid": "b1076dfc-b9ad-4769-8c92-a6c4dae69d19",
    "_uuid": "8f2839f25d086af736a60e9eeb907d3b93b6e0e5"
   },
   "outputs": [
    {
     "name": "stdout",
     "output_type": "stream",
     "text": [
      "<class 'pandas.core.frame.DataFrame'>\n",
      "RangeIndex: 1890 entries, 0 to 1889\n",
      "Data columns (total 16 columns):\n",
      " #   Column                Non-Null Count  Dtype  \n",
      "---  ------                --------------  -----  \n",
      " 0   imdb_id               1890 non-null   object \n",
      " 1   popularity            1890 non-null   float64\n",
      " 2   budget                1890 non-null   int64  \n",
      " 3   revenue               1890 non-null   int64  \n",
      " 4   original_title        1890 non-null   object \n",
      " 5   cast                  1890 non-null   object \n",
      " 6   director              1890 non-null   object \n",
      " 7   tagline               1890 non-null   object \n",
      " 8   overview              1890 non-null   object \n",
      " 9   runtime               1890 non-null   int64  \n",
      " 10  genres                1890 non-null   object \n",
      " 11  production_companies  1890 non-null   object \n",
      " 12  release_date          1890 non-null   object \n",
      " 13  vote_count            1890 non-null   int64  \n",
      " 14  vote_average          1890 non-null   float64\n",
      " 15  release_year          1890 non-null   int64  \n",
      "dtypes: float64(2), int64(5), object(9)\n",
      "memory usage: 236.4+ KB\n"
     ]
    }
   ],
   "source": [
    "import pandas as pd\n",
    "import re\n",
    "data = pd.read_csv('../input/imbd-sf/data.csv')\n",
    "data.info()"
   ]
  },
  {
   "cell_type": "code",
   "execution_count": 93,
   "metadata": {},
   "outputs": [
    {
     "data": {
      "text/plain": [
       "1890"
      ]
     },
     "execution_count": 93,
     "metadata": {},
     "output_type": "execute_result"
    }
   ],
   "source": [
    "len(data)"
   ]
  },
  {
   "cell_type": "code",
   "execution_count": 94,
   "metadata": {},
   "outputs": [],
   "source": [
    "# Предобработка датасета"
   ]
  },
  {
   "cell_type": "code",
   "execution_count": 95,
   "metadata": {},
   "outputs": [],
   "source": [
    "answer_ls = [] # создадим список с ответами. сюда будем добавлять ответы по мере прохождения теста\n",
    "# сюда можем вписать создание новых колонок в датасете"
   ]
  },
  {
   "cell_type": "markdown",
   "metadata": {},
   "source": [
    "# 1. У какого фильма из списка самый большой бюджет?\n",
    "Варианты ответов:\n",
    "1. The Dark Knight Rises (tt1345836)\n",
    "2. Spider-Man 3 (tt0413300)\n",
    "3. Avengers: Age of Ultron (tt2395427)\n",
    "4. The Warrior's Way\t(tt1032751)\n",
    "5. Pirates of the Caribbean: On Stranger Tides (tt1298650)"
   ]
  },
  {
   "cell_type": "code",
   "execution_count": 96,
   "metadata": {},
   "outputs": [
    {
     "name": "stdout",
     "output_type": "stream",
     "text": [
      "#1 The Warrior's Way\n"
     ]
    }
   ],
   "source": [
    "res = data.original_title[data.budget.idxmax()]\n",
    "print('#1', res)\n",
    "# тут вводим ваш ответ и добавлем в его список ответов (сейчас для примера стоит \"1\")\n",
    "answer_ls.append(4)"
   ]
  },
  {
   "cell_type": "markdown",
   "metadata": {},
   "source": [
    "# 2. Какой из фильмов самый длительный (в минутах)\n",
    "1. The Lord of the Rings: The Return of the King\t(tt0167260)\n",
    "2. Gods and Generals\t(tt0279111)\n",
    "3. King Kong\t(tt0360717)\n",
    "4. Pearl Harbor\t(tt0213149)\n",
    "5. Alexander\t(tt0346491)"
   ]
  },
  {
   "cell_type": "code",
   "execution_count": 97,
   "metadata": {},
   "outputs": [
    {
     "name": "stdout",
     "output_type": "stream",
     "text": [
      "#2 Gods and Generals\n"
     ]
    }
   ],
   "source": [
    "res = data.original_title[data.runtime.idxmax()]\n",
    "print('#2', res)\n",
    "answer_ls.append(2)"
   ]
  },
  {
   "cell_type": "markdown",
   "metadata": {},
   "source": [
    "# 3. Какой из фильмов самый короткий (в минутах)\n",
    "Варианты ответов:\n",
    "\n",
    "1. Home on the Range\ttt0299172\n",
    "2. The Jungle Book 2\ttt0283426\n",
    "3. Winnie the Pooh\ttt1449283\n",
    "4. Corpse Bride\ttt0121164\n",
    "5. Hoodwinked!\ttt0443536"
   ]
  },
  {
   "cell_type": "code",
   "execution_count": 98,
   "metadata": {},
   "outputs": [
    {
     "name": "stdout",
     "output_type": "stream",
     "text": [
      "#3 Winnie the Pooh\n"
     ]
    }
   ],
   "source": [
    "res = data.original_title[data.runtime.idxmin()]\n",
    "print('#3', res)\n",
    "answer_ls.append(3)"
   ]
  },
  {
   "cell_type": "markdown",
   "metadata": {},
   "source": [
    "# 4. Какое число ближе к средней длительности фильма в датасете?\n",
    "Варианты ответов:\n",
    "1. 115\n",
    "2. 110\n",
    "3. 105\n",
    "4. 120\n",
    "5. 100\n"
   ]
  },
  {
   "cell_type": "code",
   "execution_count": 99,
   "metadata": {},
   "outputs": [
    {
     "name": "stdout",
     "output_type": "stream",
     "text": [
      "#4 110\n"
     ]
    }
   ],
   "source": [
    "res = data.runtime.mean()\n",
    "print('#4', round(res))\n",
    "answer_ls.append(2)"
   ]
  },
  {
   "cell_type": "markdown",
   "metadata": {},
   "source": [
    "# 5. Какое число ближе к медианной длительности фильма в датасете?\n",
    "Варианты ответов:\n",
    "1. 106\n",
    "2. 112\n",
    "3. 101\n",
    "4. 120\n",
    "5. 115\n",
    "\n",
    "\n"
   ]
  },
  {
   "cell_type": "code",
   "execution_count": 100,
   "metadata": {},
   "outputs": [
    {
     "name": "stdout",
     "output_type": "stream",
     "text": [
      "#5 106\n"
     ]
    }
   ],
   "source": [
    "res = data.runtime.median()\n",
    "print('#5', round(res))\n",
    "answer_ls.append(1)"
   ]
  },
  {
   "cell_type": "markdown",
   "metadata": {},
   "source": [
    "# 6. Какой самый прибыльный фильм?\n",
    "Варианты ответов:\n",
    "1. The Avengers\ttt0848228\n",
    "2. Minions\ttt2293640\n",
    "3. Star Wars: The Force Awakens\ttt2488496\n",
    "4. Furious 7\ttt2820852\n",
    "5. Avatar\ttt0499549"
   ]
  },
  {
   "cell_type": "code",
   "execution_count": 101,
   "metadata": {},
   "outputs": [
    {
     "name": "stdout",
     "output_type": "stream",
     "text": [
      "#6 Avatar\n"
     ]
    }
   ],
   "source": [
    "s_profit = data.revenue - data.budget\n",
    "res = data.original_title[s_profit.idxmax()]\n",
    "print('#6', res)\n",
    "answer_ls.append(5)"
   ]
  },
  {
   "cell_type": "markdown",
   "metadata": {},
   "source": [
    "# 7. Какой фильм самый убыточный?\n",
    "Варианты ответов:\n",
    "1. Supernova tt0134983\n",
    "2. The Warrior's Way tt1032751\n",
    "3. Flushed Away\ttt0424095\n",
    "4. The Adventures of Pluto Nash\ttt0180052\n",
    "5. The Lone Ranger\ttt1210819"
   ]
  },
  {
   "cell_type": "code",
   "execution_count": 102,
   "metadata": {},
   "outputs": [
    {
     "name": "stdout",
     "output_type": "stream",
     "text": [
      "#7 The Warrior's Way\n"
     ]
    }
   ],
   "source": [
    "res = data.original_title[s_profit.idxmin()]\n",
    "print('#7', res)\n",
    "answer_ls.append(2)"
   ]
  },
  {
   "cell_type": "markdown",
   "metadata": {},
   "source": [
    "# 8. У скольких фильмов из датасета объем сборов оказался выше бюджета?\n",
    "Варианты ответов:\n",
    "1. 1478\n",
    "2. 1520\n",
    "3. 1241\n",
    "4. 1135\n",
    "5. 1398\n"
   ]
  },
  {
   "cell_type": "code",
   "execution_count": 103,
   "metadata": {},
   "outputs": [
    {
     "name": "stdout",
     "output_type": "stream",
     "text": [
      "#8 1478\n"
     ]
    }
   ],
   "source": [
    "res = data.original_title[s_profit > 0]\n",
    "print('#8', len(res))\n",
    "answer_ls.append(1)"
   ]
  },
  {
   "cell_type": "markdown",
   "metadata": {},
   "source": [
    "# 9. Какой фильм оказался самым кассовым в 2008 году?\n",
    "Варианты ответов:\n",
    "1. Madagascar: Escape 2 Africa\ttt0479952\n",
    "2. Iron Man\ttt0371746\n",
    "3. Kung Fu Panda\ttt0441773\n",
    "4. The Dark Knight\ttt0468569\n",
    "5. Mamma Mia!\ttt0795421"
   ]
  },
  {
   "cell_type": "code",
   "execution_count": 104,
   "metadata": {},
   "outputs": [
    {
     "name": "stdout",
     "output_type": "stream",
     "text": [
      "#9 The Dark Knight\n"
     ]
    }
   ],
   "source": [
    "res = data.original_title[data[data.release_year == 2008]['revenue'].idxmax()]\n",
    "print('#9', res)\n",
    "answer_ls.append(4)"
   ]
  },
  {
   "cell_type": "markdown",
   "metadata": {},
   "source": [
    "# 10. Самый убыточный фильм за период с 2012 по 2014 (включительно)?\n",
    "Варианты ответов:\n",
    "1. Winter's Tale\ttt1837709\n",
    "2. Stolen\ttt1656186\n",
    "3. Broken City\ttt1235522\n",
    "4. Upside Down\ttt1374992\n",
    "5. The Lone Ranger\ttt1210819\n"
   ]
  },
  {
   "cell_type": "code",
   "execution_count": 105,
   "metadata": {},
   "outputs": [
    {
     "name": "stdout",
     "output_type": "stream",
     "text": [
      "#10 The Lone Ranger\n"
     ]
    }
   ],
   "source": [
    "res = data.original_title[s_profit[(data.release_year >= 2012) & (data.release_year <= 2014)].idxmin()]\n",
    "print('#10', res)\n",
    "answer_ls.append(5)"
   ]
  },
  {
   "cell_type": "markdown",
   "metadata": {},
   "source": [
    "# 11. Какого жанра фильмов больше всего?\n",
    "Варианты ответов:\n",
    "1. Action\n",
    "2. Adventure\n",
    "3. Drama\n",
    "4. Comedy\n",
    "5. Thriller"
   ]
  },
  {
   "cell_type": "code",
   "execution_count": 106,
   "metadata": {},
   "outputs": [
    {
     "name": "stdout",
     "output_type": "stream",
     "text": [
      "#11 Drama\n"
     ]
    }
   ],
   "source": [
    "def parse_line(s):\n",
    "    res_s = pd.Series([], dtype=object)\n",
    "    for line in s:\n",
    "        list_line = line.split('|')\n",
    "        for cell_line in list_line:\n",
    "            res_s = res_s.append(pd.Series(cell_line))\n",
    "    return res_s\n",
    "\n",
    "s_genres = parse_line(data.genres)\n",
    "res = s_genres.value_counts().idxmax()\n",
    "print('#11', res)\n",
    "answer_ls.append(3)"
   ]
  },
  {
   "cell_type": "markdown",
   "metadata": {},
   "source": [
    "# 12. Какого жанра среди прибыльных фильмов больше всего?\n",
    "Варианты ответов:\n",
    "1. Action\n",
    "2. Adventure\n",
    "3. Drama\n",
    "4. Comedy\n",
    "5. Thriller"
   ]
  },
  {
   "cell_type": "code",
   "execution_count": 107,
   "metadata": {},
   "outputs": [
    {
     "name": "stdout",
     "output_type": "stream",
     "text": [
      "#12 Drama\n"
     ]
    }
   ],
   "source": [
    "s_genres0 = parse_line(data.genres[s_profit > 0])\n",
    "res = s_genres0.value_counts().idxmax()\n",
    "print('#12', res)\n",
    "answer_ls.append(3)"
   ]
  },
  {
   "cell_type": "markdown",
   "metadata": {},
   "source": [
    "# 13. Кто из режиссеров снял больше всего фильмов?\n",
    "Варианты ответов:\n",
    "1. Steven Spielberg\n",
    "2. Ridley Scott \n",
    "3. Steven Soderbergh\n",
    "4. Christopher Nolan\n",
    "5. Clint Eastwood"
   ]
  },
  {
   "cell_type": "code",
   "execution_count": 108,
   "metadata": {},
   "outputs": [
    {
     "name": "stdout",
     "output_type": "stream",
     "text": [
      "#13 Steven Soderbergh\n"
     ]
    }
   ],
   "source": [
    "res = data.director.value_counts()\n",
    "print('#13', res.idxmax())\n",
    "answer_ls.append(3)"
   ]
  },
  {
   "cell_type": "markdown",
   "metadata": {},
   "source": [
    "# 14. Кто из режиссеров снял больше всего Прибыльных фильмов?\n",
    "Варианты ответов:\n",
    "1. Steven Spielberg\n",
    "2. Ridley Scott\n",
    "3. Steven Soderbergh\n",
    "4. Christopher Nolan\n",
    "5. Clint Eastwood"
   ]
  },
  {
   "cell_type": "code",
   "execution_count": 109,
   "metadata": {},
   "outputs": [
    {
     "name": "stdout",
     "output_type": "stream",
     "text": [
      "#14 Ridley Scott\n"
     ]
    }
   ],
   "source": [
    "res = data.director[s_profit > 0].value_counts()\n",
    "print('#14', res.idxmax())\n",
    "answer_ls.append(2)"
   ]
  },
  {
   "cell_type": "markdown",
   "metadata": {},
   "source": [
    "# 15. Кто из режиссеров принес больше всего прибыли?\n",
    "Варианты ответов:\n",
    "1. Steven Spielberg\n",
    "2. James Cameron\n",
    "3. Christopher Nolan\n",
    "4. David Yates\n",
    "5. Peter Jackson\n"
   ]
  },
  {
   "cell_type": "code",
   "execution_count": 110,
   "metadata": {},
   "outputs": [
    {
     "name": "stdout",
     "output_type": "stream",
     "text": [
      "#15 Peter Jackson\n"
     ]
    }
   ],
   "source": [
    "df_dp = pd.concat([data.director, s_profit], axis=1)\n",
    "res = df_dp.groupby(['director']).sum()\n",
    "res.columns = ['sum']\n",
    "print('#15', res.idxmax()['sum'])\n",
    "answer_ls.append(5)"
   ]
  },
  {
   "cell_type": "markdown",
   "metadata": {},
   "source": [
    "# 16. Какой актер принес больше всего прибыли?\n",
    "Варианты ответов:\n",
    "1. Emma Watson\n",
    "2. Johnny Depp\n",
    "3. Michelle Rodriguez\n",
    "4. Orlando Bloom\n",
    "5. Rupert Grint"
   ]
  },
  {
   "cell_type": "code",
   "execution_count": 111,
   "metadata": {},
   "outputs": [
    {
     "name": "stdout",
     "output_type": "stream",
     "text": [
      "#16 Emma Watson\n"
     ]
    }
   ],
   "source": [
    "def parse_line_df(s, separ='\\|'):\n",
    "    res = pd.DataFrame()\n",
    "    # phrase = s.apply(lambda s: str(s).split(separ))\n",
    "    phrase = s.apply(lambda x: re.split(separ, str(x)))   \n",
    "    for iw1 in phrase.index:\n",
    "        ls = phrase.loc[iw1]\n",
    "        ix = [iw1 for x in range(len(ls))]\n",
    "        res = res.append(pd.DataFrame(ls, ix))   \n",
    "    return res.reset_index()\n",
    "    \n",
    "df_cast = parse_line_df(data.cast)\n",
    "df_cast.columns = ['index_film', 'cast']\n",
    "\n",
    "df_profit = s_profit.reset_index()\n",
    "df_profit.columns = ['index_film', 'profit']\n",
    "\n",
    "res = df_cast.merge(df_profit, on=['index_film']).groupby('cast').sum()\n",
    "print('#16', res['profit'].idxmax())\n",
    "answer_ls.append(1)"
   ]
  },
  {
   "cell_type": "markdown",
   "metadata": {},
   "source": [
    "# 17. Какой актер принес меньше всего прибыли в 2012 году?\n",
    "Варианты ответов:\n",
    "1. Nicolas Cage\n",
    "2. Danny Huston\n",
    "3. Kirsten Dunst\n",
    "4. Jim Sturgess\n",
    "5. Sami Gayle"
   ]
  },
  {
   "cell_type": "code",
   "execution_count": 112,
   "metadata": {},
   "outputs": [
    {
     "name": "stdout",
     "output_type": "stream",
     "text": [
      "#17 Kirsten Dunst\n"
     ]
    }
   ],
   "source": [
    "res = df_cast.merge(df_profit[data.release_year == 2012], on=['index_film']).groupby('cast').sum()\n",
    "print('#17', res.idxmin()['profit'])\n",
    "answer_ls.append(3)"
   ]
  },
  {
   "cell_type": "markdown",
   "metadata": {},
   "source": [
    "# 18. Какой актер снялся в большем количестве высокобюджетных фильмов? (в фильмах где бюджет выше среднего по данной выборке)\n",
    "Варианты ответов:\n",
    "1. Tom Cruise\n",
    "2. Mark Wahlberg \n",
    "3. Matt Damon\n",
    "4. Angelina Jolie\n",
    "5. Adam Sandler"
   ]
  },
  {
   "cell_type": "code",
   "execution_count": 113,
   "metadata": {},
   "outputs": [
    {
     "name": "stdout",
     "output_type": "stream",
     "text": [
      "#18 Matt Damon\n"
     ]
    }
   ],
   "source": [
    "mean_bud = data.budget.mean()\n",
    "df_cast_bud = parse_line_df(data.cast[data.budget > mean_bud])\n",
    "df_cast_bud.columns = ['index_film', 'cast']\n",
    "res = df_cast_bud.cast.value_counts()\n",
    "print('#18', res.idxmax())\n",
    "answer_ls.append(3)"
   ]
  },
  {
   "cell_type": "markdown",
   "metadata": {},
   "source": [
    "# 19. В фильмах какого жанра больше всего снимался Nicolas Cage?  \n",
    "Варианты ответа:\n",
    "1. Drama\n",
    "2. Action\n",
    "3. Thriller\n",
    "4. Adventure\n",
    "5. Crime"
   ]
  },
  {
   "cell_type": "code",
   "execution_count": 114,
   "metadata": {},
   "outputs": [
    {
     "name": "stdout",
     "output_type": "stream",
     "text": [
      "#19 Action\n"
     ]
    }
   ],
   "source": [
    "df_genres = parse_line_df(data.genres)\n",
    "df_genres.columns = ['index_film', 'genres']\n",
    "df_NC = df_cast[df_cast.cast == 'Nicolas Cage'].merge(df_genres, on='index_film')\n",
    "res = df_NC.genres.value_counts()\n",
    "print('#19', res.idxmax())\n",
    "answer_ls.append(2)"
   ]
  },
  {
   "cell_type": "markdown",
   "metadata": {},
   "source": [
    "# 20. Какая студия сняла больше всего фильмов?\n",
    "Варианты ответа:\n",
    "1. Universal Pictures (Universal)\n",
    "2. Paramount Pictures\n",
    "3. Columbia Pictures\n",
    "4. Warner Bros\n",
    "5. Twentieth Century Fox Film Corporation"
   ]
  },
  {
   "cell_type": "code",
   "execution_count": 115,
   "metadata": {},
   "outputs": [
    {
     "name": "stdout",
     "output_type": "stream",
     "text": [
      "#20 Universal Pictures\n"
     ]
    }
   ],
   "source": [
    "df_companies = parse_line_df(data.production_companies)\n",
    "df_companies.columns = ['index_film', 'production_companies']\n",
    "res = df_companies.production_companies.value_counts()\n",
    "print('#20', res.idxmax())\n",
    "answer_ls.append(1)"
   ]
  },
  {
   "cell_type": "markdown",
   "metadata": {},
   "source": [
    "# 21. Какая студия сняла больше всего фильмов в 2015 году?\n",
    "Варианты ответа:\n",
    "1. Universal Pictures\n",
    "2. Paramount Pictures\n",
    "3. Columbia Pictures\n",
    "4. Warner Bros\n",
    "5. Twentieth Century Fox Film Corporation"
   ]
  },
  {
   "cell_type": "code",
   "execution_count": 116,
   "metadata": {},
   "outputs": [
    {
     "name": "stdout",
     "output_type": "stream",
     "text": [
      "#21 Warner Bros.\n"
     ]
    }
   ],
   "source": [
    "df_companies15 = parse_line_df(data[data.release_year == 2015].production_companies)\n",
    "df_companies15.columns = ['index_film', 'production_companies']\n",
    "res = df_companies15.production_companies.value_counts()\n",
    "print('#21', res.idxmax())\n",
    "answer_ls.append(4)"
   ]
  },
  {
   "cell_type": "markdown",
   "metadata": {},
   "source": [
    "# 22. Какая студия заработала больше всего денег в жанре комедий за все время?\n",
    "Варианты ответа:\n",
    "1. Warner Bros\n",
    "2. Universal Pictures (Universal)\n",
    "3. Columbia Pictures\n",
    "4. Paramount Pictures\n",
    "5. Walt Disney"
   ]
  },
  {
   "cell_type": "code",
   "execution_count": 117,
   "metadata": {},
   "outputs": [
    {
     "name": "stdout",
     "output_type": "stream",
     "text": [
      "#22 Universal Pictures\n"
     ]
    }
   ],
   "source": [
    "m1 = df_companies.merge(df_genres[df_genres.genres == 'Comedy'], on='index_film', how='inner')\n",
    "m2 = m1.merge(df_profit, on='index_film')\n",
    "m3 = m2.groupby('production_companies')['profit'].sum()\n",
    "print('#22', m3.idxmax())\n",
    "answer_ls.append(2)"
   ]
  },
  {
   "cell_type": "markdown",
   "metadata": {},
   "source": [
    "# 23. Какая студия заработала больше всего денег в 2012 году?\n",
    "Варианты ответа:\n",
    "1. Universal Pictures (Universal)\n",
    "2. Warner Bros\n",
    "3. Columbia Pictures\n",
    "4. Paramount Pictures\n",
    "5. Lucasfilm"
   ]
  },
  {
   "cell_type": "code",
   "execution_count": 118,
   "metadata": {},
   "outputs": [
    {
     "name": "stdout",
     "output_type": "stream",
     "text": [
      "#23 Columbia Pictures\n"
     ]
    }
   ],
   "source": [
    "m1 = df_companies.merge(df_profit[data.release_year == 2012], on='index_film')\n",
    "m2 = m1.groupby('production_companies')['profit'].sum()\n",
    "print('#23', m2.idxmax())\n",
    "answer_ls.append(3)"
   ]
  },
  {
   "cell_type": "markdown",
   "metadata": {},
   "source": [
    "# 24. Самый убыточный фильм от Paramount Pictures\n",
    "Варианты ответа:\n",
    "\n",
    "1. K-19: The Widowmaker tt0267626\n",
    "2. Next tt0435705\n",
    "3. Twisted tt0315297\n",
    "4. The Love Guru tt0811138\n",
    "5. The Fighter tt0964517"
   ]
  },
  {
   "cell_type": "code",
   "execution_count": 119,
   "metadata": {},
   "outputs": [
    {
     "name": "stdout",
     "output_type": "stream",
     "text": [
      "#24 K-19: The Widowmaker\n"
     ]
    }
   ],
   "source": [
    "res = data.loc[df_profit[data.production_companies.str.contains('Paramount Pictures')].profit.idxmin()].original_title\n",
    "print('#24', res)\n",
    "answer_ls.append(1)"
   ]
  },
  {
   "cell_type": "markdown",
   "metadata": {},
   "source": [
    "# 25. Какой Самый прибыльный год (заработали больше всего)?\n",
    "Варианты ответа:\n",
    "1. 2014\n",
    "2. 2008\n",
    "3. 2012\n",
    "4. 2002\n",
    "5. 2015"
   ]
  },
  {
   "cell_type": "code",
   "execution_count": 120,
   "metadata": {},
   "outputs": [
    {
     "name": "stdout",
     "output_type": "stream",
     "text": [
      "#25 2015\n"
     ]
    }
   ],
   "source": [
    "df_prof_year = pd.DataFrame([data.revenue - data.budget, data.release_year]).T\n",
    "res = df_prof_year.groupby('release_year').sum().idxmax().values[0]\n",
    "print('#25', res)\n",
    "answer_ls.append(5)"
   ]
  },
  {
   "cell_type": "markdown",
   "metadata": {},
   "source": [
    "# 26. Какой Самый прибыльный год для студии Warner Bros?\n",
    "Варианты ответа:\n",
    "1. 2014\n",
    "2. 2008\n",
    "3. 2012\n",
    "4. 2010\n",
    "5. 2015"
   ]
  },
  {
   "cell_type": "code",
   "execution_count": 121,
   "metadata": {},
   "outputs": [
    {
     "name": "stdout",
     "output_type": "stream",
     "text": [
      "#26 2014\n"
     ]
    }
   ],
   "source": [
    "data_WB = data[data.production_companies.str.contains('Warner Bros')]\n",
    "df_WB_py = pd.DataFrame([data_WB.revenue - data_WB.budget, data_WB.release_year]).T\n",
    "res = df_WB_py.groupby('release_year').sum().idxmax().values[0]\n",
    "print('#26', res)\n",
    "answer_ls.append(1)"
   ]
  },
  {
   "cell_type": "markdown",
   "metadata": {},
   "source": [
    "# 27. В каком месяце за все годы суммарно вышло больше всего фильмов?\n",
    "Варианты ответа:\n",
    "1. Январь\n",
    "2. Июнь\n",
    "3. Декабрь\n",
    "4. Сентябрь\n",
    "5. Май"
   ]
  },
  {
   "cell_type": "code",
   "execution_count": 122,
   "metadata": {},
   "outputs": [
    {
     "name": "stdout",
     "output_type": "stream",
     "text": [
      "#27 9\n"
     ]
    }
   ],
   "source": [
    "res = data.release_date.apply(lambda s: str(s).split('/')[0]).value_counts().idxmax()\n",
    "print('#27', res)\n",
    "answer_ls.append(4)"
   ]
  },
  {
   "cell_type": "markdown",
   "metadata": {},
   "source": [
    "# 28. Сколько суммарно вышло фильмов летом? (за июнь, июль, август)\n",
    "Варианты ответа:\n",
    "1. 345\n",
    "2. 450\n",
    "3. 478\n",
    "4. 523\n",
    "5. 381"
   ]
  },
  {
   "cell_type": "code",
   "execution_count": 123,
   "metadata": {},
   "outputs": [
    {
     "name": "stdout",
     "output_type": "stream",
     "text": [
      "#28 450\n"
     ]
    }
   ],
   "source": [
    "res = data.release_date.apply(lambda s: str(s).split('/')[0]).value_counts()\n",
    "print('#28', res[['6','7','8']].sum())\n",
    "answer_ls.append(2)"
   ]
  },
  {
   "cell_type": "markdown",
   "metadata": {},
   "source": [
    "# 29. Какой режисер выпускает (суммарно по годам) больше всего фильмов зимой?\n",
    "Варианты ответов:\n",
    "1. Steven Soderbergh\n",
    "2. Christopher Nolan\n",
    "3. Clint Eastwood\n",
    "4. Ridley Scott\n",
    "5. Peter Jackson"
   ]
  },
  {
   "cell_type": "code",
   "execution_count": 124,
   "metadata": {},
   "outputs": [
    {
     "name": "stdout",
     "output_type": "stream",
     "text": [
      "#29 Peter Jackson\n"
     ]
    }
   ],
   "source": [
    "df_director = parse_line_df(data.director)\n",
    "df_director.columns = ['index_film', 'director']\n",
    "df_month = data.release_date.apply(lambda s: str(s).split('/')[0])\n",
    "df_month = df_month.reset_index()\n",
    "df_month.columns = ['index_film', 'month']\n",
    "df_month_winter = df_month[(df_month.month == '1') | (df_month.month == '11') | (df_month.month == '12')]\n",
    "res = df_director.merge(df_month_winter, on='index_film').director.value_counts().idxmax()\n",
    "print('#29', res)\n",
    "answer_ls.append(5)"
   ]
  },
  {
   "cell_type": "markdown",
   "metadata": {},
   "source": [
    "# 30. Какой месяц чаще всего самый прибыльный в году?\n",
    "Варианты ответа:\n",
    "1. Январь\n",
    "2. Июнь\n",
    "3. Декабрь\n",
    "4. Сентябрь\n",
    "5. Май"
   ]
  },
  {
   "cell_type": "code",
   "execution_count": 125,
   "metadata": {},
   "outputs": [
    {
     "name": "stdout",
     "output_type": "stream",
     "text": [
      "#30 6\n"
     ]
    }
   ],
   "source": [
    "df_my = df_prof_year.assign(month=df_month['month'])\n",
    "df_my.columns = ['profit', 'release_year', 'month']\n",
    "df_p = df_my.pivot_table(values='profit', index='month', columns='release_year', aggfunc='sum')\n",
    "res = df_p.idxmax().value_counts().idxmax()\n",
    "print('#30', res)\n",
    "answer_ls.append(2)"
   ]
  },
  {
   "cell_type": "markdown",
   "metadata": {},
   "source": [
    "# 31. Названия фильмов какой студии в среднем самые длинные по количеству символов?\n",
    "Варианты ответа:\n",
    "1. Universal Pictures (Universal)\n",
    "2. Warner Bros\n",
    "3. Jim Henson Company, The\n",
    "4. Paramount Pictures\n",
    "5. Four By Two Productions"
   ]
  },
  {
   "cell_type": "code",
   "execution_count": 126,
   "metadata": {},
   "outputs": [
    {
     "name": "stdout",
     "output_type": "stream",
     "text": [
      "#31 Four By Two Productions\n"
     ]
    }
   ],
   "source": [
    "df_title_len = data.original_title.apply(lambda s: len(str(s)))\n",
    "df_title_len = df_title_len.reset_index()\n",
    "df_title_len.columns = ['index_film', 'len']\n",
    "m1 = df_companies.merge(df_title_len, on='index_film')\n",
    "res = m1.groupby('production_companies')['len'].mean().idxmax()\n",
    "print('#31', res)\n",
    "answer_ls.append(5)"
   ]
  },
  {
   "cell_type": "markdown",
   "metadata": {},
   "source": [
    "# 32. Названия фильмов какой студии в среднем самые длинные по количеству слов?\n",
    "Варианты ответа:\n",
    "1. Universal Pictures (Universal)\n",
    "2. Warner Bros\n",
    "3. Jim Henson Company, The\n",
    "4. Paramount Pictures\n",
    "5. Four By Two Productions"
   ]
  },
  {
   "cell_type": "code",
   "execution_count": 127,
   "metadata": {},
   "outputs": [
    {
     "name": "stdout",
     "output_type": "stream",
     "text": [
      "#32 Four By Two Productions\n"
     ]
    }
   ],
   "source": [
    "df_title_len = data.original_title.apply(lambda s: len(str(s).split()))\n",
    "df_title_len = df_title_len.reset_index()\n",
    "df_title_len.columns = ['index_film', 'len']\n",
    "m1 = df_companies.merge(df_title_len, on='index_film')\n",
    "res = m1.groupby('production_companies')['len'].mean().idxmax()\n",
    "print('#32', res)\n",
    "answer_ls.append(5)"
   ]
  },
  {
   "cell_type": "markdown",
   "metadata": {},
   "source": [
    "# 33. Сколько разных слов используется в названиях фильмов?(без учета регистра)\n",
    "Варианты ответа:\n",
    "1. 6540\n",
    "2. 1002\n",
    "3. 2461\n",
    "4. 28304\n",
    "5. 3432"
   ]
  },
  {
   "cell_type": "code",
   "execution_count": 128,
   "metadata": {},
   "outputs": [
    {
     "name": "stdout",
     "output_type": "stream",
     "text": [
      "#33 2461\n"
     ]
    }
   ],
   "source": [
    "df_word = parse_line_df(data.original_title.apply(lambda s: str(s).lower()), separ='\\s+')\n",
    "df_word.columns = ['index_film', 'word']\n",
    "res = df_word.word.value_counts()\n",
    "print('#33', len(res))\n",
    "answer_ls.append(3)"
   ]
  },
  {
   "cell_type": "markdown",
   "metadata": {},
   "source": [
    "# 34. Какие фильмы входят в 1 процент лучших по рейтингу?\n",
    "Варианты ответа:\n",
    "1. Inside Out, Gone Girl, 12 Years a Slave\n",
    "2. BloodRayne, The Adventures of Rocky & Bullwinkle\n",
    "3. The Lord of the Rings: The Return of the King, Upside Down\n",
    "4. 300, Lucky Number Slevin\n",
    "5. Upside Down, 300, Inside Out, The Lord of the Rings: The Return of the King"
   ]
  },
  {
   "cell_type": "code",
   "execution_count": 129,
   "metadata": {},
   "outputs": [
    {
     "name": "stdout",
     "output_type": "stream",
     "text": [
      "#34 Inside Out, Gone Girl, 12 Years a Slave\n"
     ]
    }
   ],
   "source": [
    "df_vote = data[['original_title', 'vote_average']]\n",
    "df_vote_sort = df_vote.sort_values(by='vote_average', ascending=False)\n",
    "num_films = round(len(df_vote_sort)/100)\n",
    "s_1per = df_vote_sort.iloc[0:num_films].original_title.sort_values()\n",
    "\n",
    "str_answer = [['Inside Out', 'Gone Girl', '12 Years a Slave'],\n",
    "['BloodRayne' , 'The Adventures of Rocky and Bullwinkle'],\n",
    "['The Lord of the Rings: The Return of the King', 'Upside Down'],\n",
    "['300', 'Lucky Number Slevin'],\n",
    "['Upside Down', '300', 'Inside Out', 'The Lord of the Rings: The Return of the King']]\n",
    "\n",
    "for x in str_answer:   \n",
    "    res = all([film in s_1per.values for film in x])    \n",
    "    if res:\n",
    "        print('#34', ', '.join(x)) \n",
    "answer_ls.append(1)"
   ]
  },
  {
   "cell_type": "markdown",
   "metadata": {},
   "source": [
    "# 35. Какие актеры чаще всего снимаются в одном фильме вместе\n",
    "Варианты ответа:\n",
    "1. Johnny Depp & Helena Bonham Carter\n",
    "2. Hugh Jackman & Ian McKellen\n",
    "3. Vin Diesel & Paul Walker\n",
    "4. Adam Sandler & Kevin James\n",
    "5. Daniel Radcliffe & Rupert Grint"
   ]
  },
  {
   "cell_type": "code",
   "execution_count": 130,
   "metadata": {},
   "outputs": [
    {
     "name": "stdout",
     "output_type": "stream",
     "text": [
      "#35 8\n",
      "Daniel Radcliffe & Rupert Grint\n",
      "Emma Watson & Rupert Grint\n",
      "Daniel Radcliffe & Emma Watson\n"
     ]
    }
   ],
   "source": [
    "df_cast_sort = df_cast.sort_values(by=['index_film', 'cast'])\n",
    "m1 = df_cast_sort.index_film.min()\n",
    "m2 = df_cast_sort.index_film.max() + 1\n",
    "\n",
    "s_pair = pd.Series([], dtype=object, name='pair')\n",
    "for i_film in range(m1, m2):\n",
    "    s1 = df_cast_sort[df_cast_sort.index_film == i_film]\n",
    "    s1_len = len(s1)\n",
    "    for i_name1 in range(s1_len - 1):\n",
    "        name1 = s1.cast.iloc[i_name1]\n",
    "        for i_name2 in range(i_name1 + 1, s1_len):\n",
    "            name2 = s1.cast.iloc[i_name2]\n",
    "            str_name = str(name1 + ' & ' + name2)\n",
    "            s_pair = s_pair.append(pd.Series(str_name))\n",
    "\n",
    "s_pair_count = s_pair.value_counts()\n",
    "s_pair_count.name = 'num'\n",
    "num_pair = s_pair_count.max()\n",
    "res = s_pair_count[s_pair_count == num_pair].index.values\n",
    "print('#35', num_pair)\n",
    "for r in res:\n",
    "    print(r)\n",
    "answer_ls.append(5)"
   ]
  },
  {
   "cell_type": "markdown",
   "metadata": {},
   "source": [
    "# 36. У какого из режиссеров выше вероятность выпустить фильм в прибыли? (5 баллов)101\n",
    "Варианты ответа:\n",
    "1. Quentin Tarantino\n",
    "2. Steven Soderbergh\n",
    "3. Robert Rodriguez\n",
    "4. Christopher Nolan\n",
    "5. Clint Eastwood"
   ]
  },
  {
   "cell_type": "code",
   "execution_count": 131,
   "metadata": {},
   "outputs": [
    {
     "name": "stdout",
     "output_type": "stream",
     "text": [
      "#36 Christopher Nolan\n"
     ]
    }
   ],
   "source": [
    "df_dir_select = df_director[df_director.director.str.contains('Quentin Tarantino|Steven Soderbergh|Robert Rodriguez|Christopher Nolan|Clint Eastwood')]\n",
    "\n",
    "s_dir0 = df_dir_select.merge(df_profit[df_profit.profit > 0], on='index_film')['director']\n",
    "df_dir0 = s_dir0.value_counts().sort_index().reset_index()\n",
    "df_dir0.columns = ['director', 'num_films_profit']\n",
    "\n",
    "df_dir = df_dir_select['director'].value_counts().sort_index().reset_index()\n",
    "df_dir.columns = ['director', 'num_films_all']\n",
    "\n",
    "df_dir = df_dir0.assign(proc = df_dir0['num_films_profit'] / df_dir['num_films_all'] * 100 )\n",
    "res = df_dir.loc[df_dir.proc.idxmax()].director\n",
    "\n",
    "print('#36', res)\n",
    "answer_ls.append(4)"
   ]
  },
  {
   "cell_type": "markdown",
   "metadata": {},
   "source": [
    "# Submission"
   ]
  },
  {
   "cell_type": "code",
   "execution_count": 132,
   "metadata": {},
   "outputs": [
    {
     "data": {
      "text/plain": [
       "36"
      ]
     },
     "execution_count": 132,
     "metadata": {},
     "output_type": "execute_result"
    }
   ],
   "source": [
    "len(answer_ls)"
   ]
  },
  {
   "cell_type": "code",
   "execution_count": 133,
   "metadata": {},
   "outputs": [
    {
     "data": {
      "text/html": [
       "<div>\n",
       "<style scoped>\n",
       "    .dataframe tbody tr th:only-of-type {\n",
       "        vertical-align: middle;\n",
       "    }\n",
       "\n",
       "    .dataframe tbody tr th {\n",
       "        vertical-align: top;\n",
       "    }\n",
       "\n",
       "    .dataframe thead th {\n",
       "        text-align: right;\n",
       "    }\n",
       "</style>\n",
       "<table border=\"1\" class=\"dataframe\">\n",
       "  <thead>\n",
       "    <tr style=\"text-align: right;\">\n",
       "      <th></th>\n",
       "      <th>Id</th>\n",
       "      <th>Answer</th>\n",
       "    </tr>\n",
       "  </thead>\n",
       "  <tbody>\n",
       "    <tr>\n",
       "      <th>0</th>\n",
       "      <td>1</td>\n",
       "      <td>4</td>\n",
       "    </tr>\n",
       "    <tr>\n",
       "      <th>1</th>\n",
       "      <td>2</td>\n",
       "      <td>2</td>\n",
       "    </tr>\n",
       "    <tr>\n",
       "      <th>2</th>\n",
       "      <td>3</td>\n",
       "      <td>3</td>\n",
       "    </tr>\n",
       "    <tr>\n",
       "      <th>3</th>\n",
       "      <td>4</td>\n",
       "      <td>2</td>\n",
       "    </tr>\n",
       "    <tr>\n",
       "      <th>4</th>\n",
       "      <td>5</td>\n",
       "      <td>1</td>\n",
       "    </tr>\n",
       "    <tr>\n",
       "      <th>5</th>\n",
       "      <td>6</td>\n",
       "      <td>5</td>\n",
       "    </tr>\n",
       "    <tr>\n",
       "      <th>6</th>\n",
       "      <td>7</td>\n",
       "      <td>2</td>\n",
       "    </tr>\n",
       "    <tr>\n",
       "      <th>7</th>\n",
       "      <td>8</td>\n",
       "      <td>1</td>\n",
       "    </tr>\n",
       "    <tr>\n",
       "      <th>8</th>\n",
       "      <td>9</td>\n",
       "      <td>4</td>\n",
       "    </tr>\n",
       "    <tr>\n",
       "      <th>9</th>\n",
       "      <td>10</td>\n",
       "      <td>5</td>\n",
       "    </tr>\n",
       "    <tr>\n",
       "      <th>10</th>\n",
       "      <td>11</td>\n",
       "      <td>3</td>\n",
       "    </tr>\n",
       "    <tr>\n",
       "      <th>11</th>\n",
       "      <td>12</td>\n",
       "      <td>3</td>\n",
       "    </tr>\n",
       "    <tr>\n",
       "      <th>12</th>\n",
       "      <td>13</td>\n",
       "      <td>3</td>\n",
       "    </tr>\n",
       "    <tr>\n",
       "      <th>13</th>\n",
       "      <td>14</td>\n",
       "      <td>2</td>\n",
       "    </tr>\n",
       "    <tr>\n",
       "      <th>14</th>\n",
       "      <td>15</td>\n",
       "      <td>5</td>\n",
       "    </tr>\n",
       "    <tr>\n",
       "      <th>15</th>\n",
       "      <td>16</td>\n",
       "      <td>1</td>\n",
       "    </tr>\n",
       "    <tr>\n",
       "      <th>16</th>\n",
       "      <td>17</td>\n",
       "      <td>3</td>\n",
       "    </tr>\n",
       "    <tr>\n",
       "      <th>17</th>\n",
       "      <td>18</td>\n",
       "      <td>3</td>\n",
       "    </tr>\n",
       "    <tr>\n",
       "      <th>18</th>\n",
       "      <td>19</td>\n",
       "      <td>2</td>\n",
       "    </tr>\n",
       "    <tr>\n",
       "      <th>19</th>\n",
       "      <td>20</td>\n",
       "      <td>1</td>\n",
       "    </tr>\n",
       "    <tr>\n",
       "      <th>20</th>\n",
       "      <td>21</td>\n",
       "      <td>4</td>\n",
       "    </tr>\n",
       "    <tr>\n",
       "      <th>21</th>\n",
       "      <td>22</td>\n",
       "      <td>2</td>\n",
       "    </tr>\n",
       "    <tr>\n",
       "      <th>22</th>\n",
       "      <td>23</td>\n",
       "      <td>3</td>\n",
       "    </tr>\n",
       "    <tr>\n",
       "      <th>23</th>\n",
       "      <td>24</td>\n",
       "      <td>1</td>\n",
       "    </tr>\n",
       "    <tr>\n",
       "      <th>24</th>\n",
       "      <td>25</td>\n",
       "      <td>5</td>\n",
       "    </tr>\n",
       "    <tr>\n",
       "      <th>25</th>\n",
       "      <td>26</td>\n",
       "      <td>1</td>\n",
       "    </tr>\n",
       "    <tr>\n",
       "      <th>26</th>\n",
       "      <td>27</td>\n",
       "      <td>4</td>\n",
       "    </tr>\n",
       "    <tr>\n",
       "      <th>27</th>\n",
       "      <td>28</td>\n",
       "      <td>2</td>\n",
       "    </tr>\n",
       "    <tr>\n",
       "      <th>28</th>\n",
       "      <td>29</td>\n",
       "      <td>5</td>\n",
       "    </tr>\n",
       "    <tr>\n",
       "      <th>29</th>\n",
       "      <td>30</td>\n",
       "      <td>2</td>\n",
       "    </tr>\n",
       "    <tr>\n",
       "      <th>30</th>\n",
       "      <td>31</td>\n",
       "      <td>5</td>\n",
       "    </tr>\n",
       "    <tr>\n",
       "      <th>31</th>\n",
       "      <td>32</td>\n",
       "      <td>5</td>\n",
       "    </tr>\n",
       "    <tr>\n",
       "      <th>32</th>\n",
       "      <td>33</td>\n",
       "      <td>3</td>\n",
       "    </tr>\n",
       "    <tr>\n",
       "      <th>33</th>\n",
       "      <td>34</td>\n",
       "      <td>1</td>\n",
       "    </tr>\n",
       "    <tr>\n",
       "      <th>34</th>\n",
       "      <td>35</td>\n",
       "      <td>5</td>\n",
       "    </tr>\n",
       "    <tr>\n",
       "      <th>35</th>\n",
       "      <td>36</td>\n",
       "      <td>4</td>\n",
       "    </tr>\n",
       "  </tbody>\n",
       "</table>\n",
       "</div>"
      ],
      "text/plain": [
       "    Id  Answer\n",
       "0    1       4\n",
       "1    2       2\n",
       "2    3       3\n",
       "3    4       2\n",
       "4    5       1\n",
       "5    6       5\n",
       "6    7       2\n",
       "7    8       1\n",
       "8    9       4\n",
       "9   10       5\n",
       "10  11       3\n",
       "11  12       3\n",
       "12  13       3\n",
       "13  14       2\n",
       "14  15       5\n",
       "15  16       1\n",
       "16  17       3\n",
       "17  18       3\n",
       "18  19       2\n",
       "19  20       1\n",
       "20  21       4\n",
       "21  22       2\n",
       "22  23       3\n",
       "23  24       1\n",
       "24  25       5\n",
       "25  26       1\n",
       "26  27       4\n",
       "27  28       2\n",
       "28  29       5\n",
       "29  30       2\n",
       "30  31       5\n",
       "31  32       5\n",
       "32  33       3\n",
       "33  34       1\n",
       "34  35       5\n",
       "35  36       4"
      ]
     },
     "execution_count": 133,
     "metadata": {},
     "output_type": "execute_result"
    }
   ],
   "source": [
    "pd.DataFrame({'Id':range(1,len(answer_ls)+1), 'Answer':answer_ls}, columns=['Id', 'Answer'])"
   ]
  },
  {
   "cell_type": "code",
   "execution_count": null,
   "metadata": {},
   "outputs": [],
   "source": []
  }
 ],
 "metadata": {
  "kernelspec": {
   "display_name": "Python 3",
   "language": "python",
   "name": "python3"
  },
  "language_info": {
   "codemirror_mode": {
    "name": "ipython",
    "version": 3
   },
   "file_extension": ".py",
   "mimetype": "text/x-python",
   "name": "python",
   "nbconvert_exporter": "python",
   "pygments_lexer": "ipython3",
   "version": "3.7.6"
  }
 },
 "nbformat": 4,
 "nbformat_minor": 4
}
