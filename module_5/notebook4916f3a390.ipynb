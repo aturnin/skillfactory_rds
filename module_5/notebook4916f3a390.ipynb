{
 "cells": [
  {
   "cell_type": "markdown",
   "metadata": {},
   "source": [
    "## Итоговое задание по проекту \"0-project_4-банковский_скоринг\"\n",
    "https://www.kaggle.com/alexeytyurnin\n",
    "\n",
    "Alexey Tyurnin, skillfactory-DST-14, gterrans@gmail.com\n",
    "\n",
    "Дата выполнения: 12.10.2020\n",
    "\n",
    "### Импорт библиотек"
   ]
  },
  {
   "cell_type": "code",
   "execution_count": 148,
   "metadata": {},
   "outputs": [],
   "source": [
    "from pandas import Series\n",
    "import pandas as pd\n",
    "import numpy as np\n",
    "from datetime import datetime as dtm\n",
    "\n",
    "import matplotlib.pyplot as plt\n",
    "import seaborn as sns\n",
    "\n",
    "from sklearn.feature_selection import f_classif, mutual_info_classif\n",
    "from sklearn.preprocessing import LabelEncoder, OneHotEncoder, StandardScaler\n",
    "\n",
    "from sklearn.model_selection import train_test_split\n",
    "from sklearn.linear_model import LogisticRegression\n",
    "\n",
    "from sklearn.metrics import confusion_matrix\n",
    "from sklearn.metrics import auc, roc_auc_score, roc_curve, accuracy_score, precision_score, recall_score, f1_score\n",
    "\n",
    "%matplotlib inline"
   ]
  },
  {
   "cell_type": "markdown",
   "metadata": {},
   "source": [
    "### Загрузка данных и проведение анализа данных\n",
    "\n",
    "Для анализа объеденим тренировочые и проверочные данные, исключим целевую переменную"
   ]
  },
  {
   "cell_type": "code",
   "execution_count": 149,
   "metadata": {},
   "outputs": [
    {
     "name": "stdout",
     "output_type": "stream",
     "text": [
      "<class 'pandas.core.frame.DataFrame'>\n",
      "RangeIndex: 110148 entries, 0 to 110147\n",
      "Data columns (total 17 columns):\n",
      " #   Column            Non-Null Count   Dtype  \n",
      "---  ------            --------------   -----  \n",
      " 0   app_date          110148 non-null  object \n",
      " 1   education         109670 non-null  object \n",
      " 2   sex               110148 non-null  object \n",
      " 3   age               110148 non-null  int64  \n",
      " 4   car               110148 non-null  object \n",
      " 5   car_type          110148 non-null  object \n",
      " 6   decline_app_cnt   110148 non-null  int64  \n",
      " 7   good_work         110148 non-null  int64  \n",
      " 8   score_bki         110148 non-null  float64\n",
      " 9   bki_request_cnt   110148 non-null  int64  \n",
      " 10  region_rating     110148 non-null  int64  \n",
      " 11  home_address      110148 non-null  int64  \n",
      " 12  work_address      110148 non-null  int64  \n",
      " 13  income            110148 non-null  int64  \n",
      " 14  sna               110148 non-null  int64  \n",
      " 15  first_time        110148 non-null  int64  \n",
      " 16  foreign_passport  110148 non-null  object \n",
      "dtypes: float64(1), int64(10), object(6)\n",
      "memory usage: 14.3+ MB\n"
     ]
    }
   ],
   "source": [
    "DATA_DIR = 'kaggle\\\\input\\\\sf-dst-scoring'\n",
    "df_train = pd.read_csv(DATA_DIR+'\\\\train.csv')\n",
    "\n",
    "df_train = df_train.drop(['default'], inplace=False, axis=1)\n",
    "df_test = pd.read_csv(DATA_DIR+'\\\\test.csv')\n",
    "\n",
    "# Объединяем трейн и тест в один датасет\n",
    "data = df_test.append(df_train, sort=False).reset_index(drop=True) # объединяем\n",
    "data.drop(['client_id'], inplace=True, axis=1)  # нет информации\n",
    "data.info()"
   ]
  },
  {
   "cell_type": "markdown",
   "metadata": {},
   "source": [
    "В объеденённой выборке 110148 клиентов. Всего 17 переменных, из них 1 - дата, 5 бинарных, 6 категориальных и 5 числовых. В переменной education 272 пропусков.\n",
    "\n",
    "Восстановим данные по образованию"
   ]
  },
  {
   "cell_type": "code",
   "execution_count": 150,
   "metadata": {},
   "outputs": [
    {
     "data": {
      "text/plain": [
       "SCH    57998\n",
       "GRD    34768\n",
       "UGR    14748\n",
       "PGR     1865\n",
       "NO       478\n",
       "ACD      291\n",
       "Name: education, dtype: int64"
      ]
     },
     "execution_count": 150,
     "metadata": {},
     "output_type": "execute_result"
    }
   ],
   "source": [
    "# пропущенные записи в education\n",
    "def change_edu(s):\n",
    "    if type(s) == str:\n",
    "        return s\n",
    "    else:\n",
    "        return 'NO'    # отсутствие записи - новая категория\n",
    "\n",
    "data['education'] = data['education'].apply(change_edu)\n",
    "data['education'].value_counts()\n",
    "# всего 6 видов категорий образования вместе с отсутствующей записью"
   ]
  },
  {
   "cell_type": "markdown",
   "metadata": {},
   "source": [
    "Перобразуем дату (признак 'app_date')"
   ]
  },
  {
   "cell_type": "code",
   "execution_count": 151,
   "metadata": {},
   "outputs": [
    {
     "data": {
      "text/plain": [
       "9    110148\n",
       "Name: app_date, dtype: int64"
      ]
     },
     "execution_count": 151,
     "metadata": {},
     "output_type": "execute_result"
    }
   ],
   "source": [
    "# преобразование данных\n",
    "# app_date\n",
    "from datetime import datetime as dtm\n",
    "\n",
    "lendate = data['app_date'].str.len()\n",
    "lendate.value_counts()\n",
    "# везде длина 9 символов"
   ]
  },
  {
   "cell_type": "code",
   "execution_count": 152,
   "metadata": {},
   "outputs": [],
   "source": [
    "def convert_date(data):\n",
    "    strdate = data['app_date']\n",
    "    newdate = np.zeros((strdate.shape[0], 3))\n",
    "\n",
    "    def parse_date(dtstr):\n",
    "        newstr_dt = dtstr[0:2]+'-'+dtstr[2:5]+'-'+dtstr[5:]\n",
    "        return dtm.strptime(newstr_dt, '%d-%b-%Y')\n",
    "\n",
    "    for irow, row in enumerate(strdate):\n",
    "        dtrow = parse_date(row)\n",
    "        newdate[irow][0] = dtrow.year\n",
    "        newdate[irow][1] = dtrow.month\n",
    "        newdate[irow][2] = dtrow.day\n",
    "\n",
    "    df_date = pd.DataFrame(newdate[:,1:], columns=[ 'month', 'day'])\n",
    "    # год не нужен он один!! 2014  'year',\n",
    "    # месяц - 4 штуки - в категорию\n",
    "\n",
    "    data.drop(['app_date'], inplace=True, axis=1)\n",
    "    data = pd.concat([data, df_date], axis=1)\n",
    "    return data\n",
    "\n",
    "data = convert_date(data)"
   ]
  },
  {
   "cell_type": "code",
   "execution_count": null,
   "metadata": {},
   "outputs": [],
   "source": []
  },
  {
   "cell_type": "markdown",
   "metadata": {},
   "source": [
    "В датасет добавлены признаки месяц и день вместо признака 'app_date', будем считать их категориями.\n",
    "Далее смотрим на 'sna'"
   ]
  },
  {
   "cell_type": "code",
   "execution_count": 153,
   "metadata": {},
   "outputs": [
    {
     "data": {
      "text/plain": [
       "1    70681\n",
       "4    17481\n",
       "2    15832\n",
       "3     6154\n",
       "Name: sna, dtype: int64"
      ]
     },
     "execution_count": 153,
     "metadata": {},
     "output_type": "execute_result"
    }
   ],
   "source": [
    "# sna - 4 position 1-4 int\n",
    "data['sna'].value_counts()\n"
   ]
  },
  {
   "cell_type": "markdown",
   "metadata": {},
   "source": [
    "4 возможных значения признака, считаем категорией"
   ]
  },
  {
   "cell_type": "code",
   "execution_count": 154,
   "metadata": {},
   "outputs": [
    {
     "data": {
      "text/plain": [
       "3    46588\n",
       "4    28017\n",
       "1    18296\n",
       "2    17247\n",
       "Name: first_time, dtype: int64"
      ]
     },
     "execution_count": 154,
     "metadata": {},
     "output_type": "execute_result"
    }
   ],
   "source": [
    "# first_time - 4 position 1-4 int\n",
    "data['first_time'].value_counts()"
   ]
  },
  {
   "cell_type": "markdown",
   "metadata": {},
   "source": [
    "То же 4 значения - категория."
   ]
  },
  {
   "cell_type": "code",
   "execution_count": 155,
   "metadata": {},
   "outputs": [
    {
     "data": {
      "text/plain": [
       "<matplotlib.axes._subplots.AxesSubplot at 0x1c181d7bb48>"
      ]
     },
     "execution_count": 155,
     "metadata": {},
     "output_type": "execute_result"
    },
    {
     "data": {
      "image/png": "[encoded data removed]",
      "text/plain": [
       "<Figure size 432x288 with 1 Axes>"
      ]
     },
     "metadata": {
      "needs_background": "light"
     },
     "output_type": "display_data"
    }
   ],
   "source": [
    "# score_bki - float\n",
    "score_bki = data['score_bki']#.hist(bins=20)\n",
    "score_bki.hist(bins=20) # посмотреть выбросы"
   ]
  },
  {
   "cell_type": "markdown",
   "metadata": {},
   "source": [
    "score_bki - похожее на нормально распрделеённую числовую величину."
   ]
  },
  {
   "cell_type": "code",
   "execution_count": 156,
   "metadata": {},
   "outputs": [
    {
     "data": {
      "text/plain": [
       "<matplotlib.axes._subplots.AxesSubplot at 0x1c181f6e1c8>"
      ]
     },
     "execution_count": 156,
     "metadata": {},
     "output_type": "execute_result"
    },
    {
     "data": {
      "image/png": "[encoded data removed]",
      "text/plain": [
       "<Figure size 432x288 with 1 Axes>"
      ]
     },
     "metadata": {
      "needs_background": "light"
     },
     "output_type": "display_data"
    }
   ],
   "source": [
    "# region_rating ( 7 значений наверное категория!!!)\n",
    "region_rating = data['region_rating']\n",
    "vc_rr = region_rating.value_counts()\n",
    "region_rating.hist()"
   ]
  },
  {
   "cell_type": "markdown",
   "metadata": {},
   "source": [
    "region_rating - 7 возможных значений, считаем категорией\n",
    "\n",
    "Распределим признаки по их принадлежности к видам."
   ]
  },
  {
   "cell_type": "code",
   "execution_count": 157,
   "metadata": {},
   "outputs": [],
   "source": [
    "bin_cols = ['sex', 'car', 'car_type', 'good_work', 'foreign_passport']\n",
    "num_cols = ['age', 'decline_app_cnt', 'bki_request_cnt', 'income']\n",
    "cat_cols = ['education', 'home_address', 'work_address']\n",
    "\n",
    "# дополнительные признаки\n",
    "add_cat = ['sna', 'first_time', 'region_rating', 'month', 'day']\n",
    "add_num = ['score_bki'] # не нужен логарифм"
   ]
  },
  {
   "cell_type": "markdown",
   "metadata": {},
   "source": [
    "Анализ числовых переменных, для num_cols - возьмём логарифм для уменьшения диапазона значений."
   ]
  },
  {
   "cell_type": "code",
   "execution_count": 158,
   "metadata": {},
   "outputs": [
    {
     "data": {
      "image/png": "[encoded data removed]",
      "text/plain": [
       "<Figure size 432x288 with 1 Axes>"
      ]
     },
     "metadata": {
      "needs_background": "light"
     },
     "output_type": "display_data"
    },
    {
     "data": {
      "image/png": "[encoded data removed]",
      "text/plain": [
       "<Figure size 432x288 with 1 Axes>"
      ]
     },
     "metadata": {
      "needs_background": "light"
     },
     "output_type": "display_data"
    },
    {
     "data": {
      "image/png": "[encoded data removed]",
      "text/plain": [
       "<Figure size 432x288 with 1 Axes>"
      ]
     },
     "metadata": {
      "needs_background": "light"
     },
     "output_type": "display_data"
    },
    {
     "data": {
      "image/png": "[encoded data removed]",
      "text/plain": [
       "<Figure size 432x288 with 1 Axes>"
      ]
     },
     "metadata": {
      "needs_background": "light"
     },
     "output_type": "display_data"
    },
    {
     "data": {
      "image/png": "[encoded data removed]",
      "text/plain": [
       "<Figure size 432x288 with 1 Axes>"
      ]
     },
     "metadata": {
      "needs_background": "light"
     },
     "output_type": "display_data"
    }
   ],
   "source": [
    "for i in num_cols:\n",
    "    data[i] = np.log(data[i]+1) \n",
    "\n",
    "num_cols = num_cols + add_num\n",
    "for i in num_cols:    \n",
    "    sns.distplot(data[i], kde = False, rug=False)\n",
    "    plt.title(i)\n",
    "    plt.show()"
   ]
  },
  {
   "cell_type": "markdown",
   "metadata": {},
   "source": [
    "Компактно распределённые числовые признаки, некоторые похожи на нормальные распределения. Анализ на выбросы проводить не буду, если они и есть, то в незначительном количестве.\n",
    "\n",
    "## Анализ значимости признаков на целевую переменную\n",
    "\n",
    "Нужна целевая переменная 'default', поэтому загружаем данные train и по ним проверяем зависимости."
   ]
  },
  {
   "cell_type": "code",
   "execution_count": 159,
   "metadata": {},
   "outputs": [
    {
     "data": {
      "image/png": "[encoded data removed]",
      "text/plain": [
       "<Figure size 432x288 with 1 Axes>"
      ]
     },
     "metadata": {
      "needs_background": "light"
     },
     "output_type": "display_data"
    },
    {
     "data": {
      "image/png": "[encoded data removed]",
      "text/plain": [
       "<Figure size 432x288 with 1 Axes>"
      ]
     },
     "metadata": {
      "needs_background": "light"
     },
     "output_type": "display_data"
    },
    {
     "data": {
      "image/png": "[encoded data removed]",
      "text/plain": [
       "<Figure size 432x288 with 1 Axes>"
      ]
     },
     "metadata": {
      "needs_background": "light"
     },
     "output_type": "display_data"
    },
    {
     "data": {
      "image/png": "[encoded data removed]",
      "text/plain": [
       "<Figure size 432x288 with 1 Axes>"
      ]
     },
     "metadata": {
      "needs_background": "light"
     },
     "output_type": "display_data"
    },
    {
     "data": {
      "image/png": "[encoded data removed]",
      "text/plain": [
       "<Figure size 432x288 with 1 Axes>"
      ]
     },
     "metadata": {
      "needs_background": "light"
     },
     "output_type": "display_data"
    }
   ],
   "source": [
    "data = pd.read_csv(DATA_DIR+'\\\\train.csv')\n",
    "\n",
    "# Сначала числовые переменные\n",
    "\n",
    "for i in num_cols:\n",
    "    sns.boxplot(x='default', y=i, data=data, palette=\"vlag\")\n",
    "    plt.title(i)\n",
    "    plt.show()   "
   ]
  },
  {
   "cell_type": "markdown",
   "metadata": {},
   "source": [
    "Видна разница распределений у 'score_bki'"
   ]
  },
  {
   "cell_type": "code",
   "execution_count": 160,
   "metadata": {},
   "outputs": [
    {
     "data": {
      "text/plain": [
       "<matplotlib.axes._subplots.AxesSubplot at 0x1c1821b7608>"
      ]
     },
     "execution_count": 160,
     "metadata": {},
     "output_type": "execute_result"
    },
    {
     "data": {
      "image/png": "[encoded data removed]",
      "text/plain": [
       "<Figure size 432x288 with 2 Axes>"
      ]
     },
     "metadata": {
      "needs_background": "light"
     },
     "output_type": "display_data"
    }
   ],
   "source": [
    "\n",
    "sns.heatmap(data[num_cols].corr().abs(), vmin=0, vmax=1)"
   ]
  },
  {
   "cell_type": "markdown",
   "metadata": {},
   "source": [
    "Взаимных корреляций у числовых признаков нет, на вид модуль коэффициента корреляции < 0.3 везде.\n",
    "\n",
    "Проведеём однофакторный дисперсионный анализ."
   ]
  },
  {
   "cell_type": "code",
   "execution_count": 161,
   "metadata": {},
   "outputs": [
    {
     "data": {
      "text/plain": [
       "<matplotlib.axes._subplots.AxesSubplot at 0x1c182196848>"
      ]
     },
     "execution_count": 161,
     "metadata": {},
     "output_type": "execute_result"
    },
    {
     "data": {
      "image/png": "[encoded data removed]",
      "text/plain": [
       "<Figure size 432x288 with 1 Axes>"
      ]
     },
     "metadata": {
      "needs_background": "light"
     },
     "output_type": "display_data"
    }
   ],
   "source": [
    "# однофакторный дисперсионный анализ\n",
    "imp_num = Series(f_classif(data[num_cols], data['default'])[0], index = num_cols)\n",
    "imp_num.sort_values(inplace = True)\n",
    "imp_num.plot(kind = 'barh')\n"
   ]
  },
  {
   "cell_type": "markdown",
   "metadata": {},
   "source": [
    "Наибольшая зависимость у признака 'score_bki', наименьшая у 'age'\n",
    "\n",
    "Исследуем бинарные и категориальные признаки и их влияние на целевую переменную\n"
   ]
  },
  {
   "cell_type": "code",
   "execution_count": 162,
   "metadata": {},
   "outputs": [
    {
     "data": {
      "text/plain": [
       "<matplotlib.axes._subplots.AxesSubplot at 0x1c1fdb17cc8>"
      ]
     },
     "execution_count": 162,
     "metadata": {},
     "output_type": "execute_result"
    },
    {
     "data": {
      "image/png": "[encoded data removed]",
      "text/plain": [
       "<Figure size 432x288 with 1 Axes>"
      ]
     },
     "metadata": {
      "needs_background": "light"
     },
     "output_type": "display_data"
    }
   ],
   "source": [
    "# восстановим месяц и число\n",
    "data = convert_date(data)\n",
    "\n",
    "# поправим образование\n",
    "data['education'] = data['education'].apply(change_edu)\n",
    "\n",
    "bc_cols = bin_cols + cat_cols + add_cat\n",
    "# Для бинарных признаков мы будем использовать LabelEncoder\n",
    "label_encoder = LabelEncoder()\n",
    "\n",
    "for column in bc_cols:\n",
    "    data[column] = label_encoder.fit_transform(data[column])\n",
    "\n",
    "imp_cat = Series(mutual_info_classif(data[bc_cols], data['default'],\n",
    "                                     discrete_features =True), index = bc_cols)\n",
    "imp_cat.sort_values(inplace = True)\n",
    "imp_cat.plot(kind = 'barh')\n",
    "\n",
    "# конец анализа данных"
   ]
  },
  {
   "cell_type": "markdown",
   "metadata": {},
   "source": [
    "Наибольшее влияние оказывает 'sna', наименьшее 'sex'"
   ]
  },
  {
   "cell_type": "markdown",
   "metadata": {},
   "source": [
    "## Функции преобразования данных для машинного обучения\n",
    "По результатам исследования выбрана обработка, которая будет заключена в этих функциях"
   ]
  },
  {
   "cell_type": "code",
   "execution_count": 163,
   "metadata": {},
   "outputs": [],
   "source": [
    "# функция обработки данных (по результатам исследования)\n",
    "def change_edu(s):\n",
    "    if type(s) == str:\n",
    "        return s\n",
    "    else:\n",
    "        return 'NO'    # отсутствие записи - новая категория\n",
    "\n",
    "def parse_month(dtstr):\n",
    "    newstr_dt = dtstr[0:2]+'-'+dtstr[2:5]+'-'+dtstr[5:]\n",
    "    return dtm.strptime(newstr_dt, '%d-%b-%Y').month\n",
    "\n",
    "def preprocessing_data(data):\n",
    "    \"\"\"\n",
    "    Parameters\n",
    "    ----------\n",
    "    data : Датафрейм для преобразования\n",
    "\n",
    "    Returns\n",
    "    -------\n",
    "    numpy.array с переведёнными в числовую форму признаками,\n",
    "    +нормализация, dummy-кодирование\n",
    "    \"\"\"\n",
    "\n",
    "    # убрать пропуски в образовании\n",
    "    data['education'] = data['education'].apply(change_edu)\n",
    "\n",
    "    # из даты оставляем только месяц\n",
    "    data['app_date'] = data['app_date'].apply(parse_month)\n",
    "\n",
    "    # для числовых\n",
    "    num_cols = ['age', 'decline_app_cnt', 'bki_request_cnt', 'income'] # лог.\n",
    "    add_num = ['score_bki'] # не нужен логарифм\n",
    "    for col1 in num_cols:\n",
    "        data[col1] = np.log(data[col1]+1)\n",
    "\n",
    "    # бинарные и категориальные\n",
    "    bin_cols = [ 'sex', 'car', 'car_type', 'good_work', 'foreign_passport'] #\n",
    "    cat_cols = ['education', 'home_address', 'work_address']\n",
    "    # добавленные категории\n",
    "    add_cat = ['sna', 'first_time', 'region_rating', 'app_date']\n",
    "\n",
    "    # Для бинарных признаков мы будем использовать LabelEncoder\n",
    "    bc_cols = bin_cols + cat_cols + add_cat\n",
    "    label_encoder = LabelEncoder()\n",
    "    for column in bc_cols:\n",
    "        data[column] = label_encoder.fit_transform(data[column])\n",
    "\n",
    "    # dummy-кодирование\n",
    "    cat_cols1 = cat_cols + add_cat\n",
    "    data_cat = OneHotEncoder(sparse = False).fit_transform(data[cat_cols1].values)\n",
    "\n",
    "    # нормализация числовых признаков\n",
    "    num_cols1 = num_cols + add_num\n",
    "    data_num = StandardScaler().fit_transform(data[num_cols1].values)\n",
    "    # data_num = data[num_cols1].values\n",
    "\n",
    "    # склеивание\n",
    "    npdata = np.hstack([data_num, data[bin_cols].values, data_cat])\n",
    "\n",
    "    return npdata"
   ]
  },
  {
   "cell_type": "markdown",
   "metadata": {},
   "source": [
    "Для обучения подгружаем данные и преобразуем их."
   ]
  },
  {
   "cell_type": "code",
   "execution_count": 164,
   "metadata": {},
   "outputs": [
    {
     "data": {
      "text/plain": [
       "(73799, 41)"
      ]
     },
     "execution_count": 164,
     "metadata": {},
     "output_type": "execute_result"
    }
   ],
   "source": [
    "# формируем данные для обучения\n",
    "DATA_DIR = 'kaggle\\\\input\\\\sf-dst-scoring'\n",
    "\n",
    "df_train = pd.read_csv(DATA_DIR+'\\\\train.csv')\n",
    "y = df_train['default'].values\n",
    "df_train = df_train.drop(['default'], inplace=False, axis=1)\n",
    "df_test = pd.read_csv(DATA_DIR+'\\\\test.csv')\n",
    "client_id_kgtest = df_test['client_id']\n",
    "\n",
    "df_train.drop(['client_id'], inplace=True, axis=1)\n",
    "df_test.drop(['client_id'], inplace=True, axis=1)\n",
    "\n",
    "x = preprocessing_data(df_train)\n",
    "x_kgtest = preprocessing_data(df_test)\n",
    "x.shape"
   ]
  },
  {
   "cell_type": "markdown",
   "metadata": {},
   "source": [
    "Функция для обучения логической регрессии"
   ]
  },
  {
   "cell_type": "code",
   "execution_count": 165,
   "metadata": {},
   "outputs": [],
   "source": [
    "# \n",
    "RAND = 42\n",
    "TST_SIZE = 0.3\n",
    "\n",
    "def log_regress(x, y):\n",
    "    x_train, x_test, y_train, y_test = train_test_split(x, y, test_size=TST_SIZE, random_state=RAND)\n",
    "    # model = LogisticRegression(max_iter=1000, penalty='l2', C=4.28, solver='newton-cg')\n",
    "    model = LogisticRegression(max_iter=1000, penalty='l2', C=4.28)\n",
    "    model.fit(x_train, y_train.ravel())\n",
    "    probs = model.predict_proba(x_test)\n",
    "    probs = probs[:,1]\n",
    "\n",
    "    fpr, tpr, threshold = roc_curve(y_test, probs)\n",
    "    roc_auc = roc_auc_score(y_test, probs)\n",
    "    y_pred = model.predict(x_test)\n",
    "    \n",
    "    plt.plot([0, 1], label='Baseline', linestyle='--')\n",
    "    plt.plot(fpr, tpr, label = 'Regression')\n",
    "    plt.title('Logistic Regression ROC AUC = %0.3f' % roc_auc)\n",
    "    plt.ylabel('True Positive Rate')\n",
    "    plt.xlabel('False Positive Rate')\n",
    "    plt.legend(loc = 'lower right')\n",
    "    plt.show()\n",
    "    return model, y_test, y_pred"
   ]
  },
  {
   "cell_type": "markdown",
   "metadata": {},
   "source": [
    "Начинаем обучение на полном тренировочном датасете"
   ]
  },
  {
   "cell_type": "code",
   "execution_count": 166,
   "metadata": {},
   "outputs": [
    {
     "data": {
      "image/png": "[encoded data removed]",
      "text/plain": [
       "<Figure size 432x288 with 1 Axes>"
      ]
     },
     "metadata": {
      "needs_background": "light"
     },
     "output_type": "display_data"
    },
    {
     "name": "stdout",
     "output_type": "stream",
     "text": [
      "Accuracy: 0.8733\n",
      "Precision: 0.4309\n",
      "Recall: 0.0281\n",
      "F1: 0.0527\n",
      "[[0.99467975 0.00532025]\n",
      " [0.97194245 0.02805755]]\n"
     ]
    }
   ],
   "source": [
    "model_full, y_test, y_pred = log_regress(x, y)\n",
    "\n",
    "print('Accuracy: %.4f' % accuracy_score(y_test, y_pred))\n",
    "print('Precision: %.4f' % precision_score(y_test, y_pred))\n",
    "print('Recall: %.4f' % recall_score(y_test, y_pred))\n",
    "print('F1: %.4f' % f1_score(y_test, y_pred))\n",
    "\n",
    "confmat_f = confusion_matrix(y_test, y_pred, normalize='true')\n",
    "print(confmat_f)"
   ]
  },
  {
   "cell_type": "markdown",
   "metadata": {},
   "source": [
    "Как видно параметр качества F1 исключительно низкий, также видно из confusion-матрицы, это связано с низким уровнем правильных определений дефолта. Скорее всего это связано с небалансированностью выборки. Поскольку данных помеченных как 'default' = 1 около 12%.\n",
    "Попробуем сделать сбалансированную выборку."
   ]
  },
  {
   "cell_type": "code",
   "execution_count": 167,
   "metadata": {},
   "outputs": [
    {
     "data": {
      "image/png": "[encoded data removed]",
      "text/plain": [
       "<Figure size 432x288 with 1 Axes>"
      ]
     },
     "metadata": {
      "needs_background": "light"
     },
     "output_type": "display_data"
    },
    {
     "name": "stdout",
     "output_type": "stream",
     "text": [
      "Accuracy: 0.6915\n",
      "Precision: 0.7071\n",
      "Recall: 0.7317\n",
      "F1: 0.7192\n",
      "[[0.64424951 0.35575049]\n",
      " [0.26827243 0.73172757]]\n"
     ]
    }
   ],
   "source": [
    "# сбалансированная выборка\n",
    "\n",
    "sy = Series(y)\n",
    "vc_sy = sy.value_counts()\n",
    "\n",
    "xrow = x.shape[0]\n",
    "xcol = x.shape[1]\n",
    "\n",
    "n_y1 = vc_sy[1]\n",
    "n_y0 = vc_sy[0]\n",
    "\n",
    "ratio_10 = n_y1/xrow # отношение дефолтов ко всему объёму данных\n",
    "\n",
    "x1 = np.empty((n_y1, xcol))\n",
    "x0 = np.empty((n_y0, xcol))\n",
    "\n",
    "# y1 = np.ones((n_y1, 1))\n",
    "# y0 = np.zeros((n_y0, 1))\n",
    "\n",
    "ix0 = 0\n",
    "ix1 = 0\n",
    "for row in range(xrow):\n",
    "    if y[row] == 0:\n",
    "        x0[ix0,:] = x[row,:]\n",
    "        ix0 += 1\n",
    "    else:\n",
    "        x1[ix1,:] = x[row,:]\n",
    "        ix1 += 1\n",
    "\n",
    "RAND = 49\n",
    "TST_SIZE = ratio_10\n",
    "x0_big, x0_small = train_test_split(x0, test_size=TST_SIZE, random_state=RAND)\n",
    "\n",
    "sz_small = x0_small.shape[0]\n",
    "y0 = np.zeros((x0_small.shape[0], 1))\n",
    "y1 = np.ones((n_y1, 1))\n",
    "\n",
    "bal_x = np.vstack([x0_small, x1])\n",
    "bal_y = np.vstack([y0, y1])\n",
    "\n",
    "\n",
    "model_balance, y_test, y_pred = log_regress(bal_x, bal_y)\n",
    "print('Accuracy: %.4f' % accuracy_score(y_test, y_pred))\n",
    "print('Precision: %.4f' % precision_score(y_test, y_pred))\n",
    "print('Recall: %.4f' % recall_score(y_test, y_pred))\n",
    "print('F1: %.4f' % f1_score(y_test, y_pred))\n",
    "bal = confusion_matrix(y_test, y_pred, normalize='true')\n",
    "print(bal)"
   ]
  },
  {
   "cell_type": "markdown",
   "metadata": {},
   "source": [
    "Как видно параметр F1 значительно вырос и процент определения дефолтов достиг 73%, правда величина ошибок false positive также выросла и теперь не дадут заслуженный кредит 35% клиентов."
   ]
  },
  {
   "cell_type": "markdown",
   "metadata": {},
   "source": [
    "## Подборка гиперпараметров\n",
    "Расчёт был очень долгий, в коментарии приведён результат.\n",
    "Как вывод подборка не сильно изменяет показатели качества."
   ]
  },
  {
   "cell_type": "code",
   "execution_count": 168,
   "metadata": {},
   "outputs": [],
   "source": [
    "# подбор гиперпараметров\n",
    "from sklearn.model_selection import GridSearchCV\n",
    "\n",
    "# Добавим типы регуляризации\n",
    "penalty = ['l1', 'l2']\n",
    "\n",
    "# Зададим ограничения для параметра регуляризации\n",
    "C = np.logspace(0, 4, 20)\n",
    "solver = ['newton-cg', 'lbfgs', 'liblinear', 'sag', 'saga']\n",
    "\n",
    "# Создадим гиперпараметры\n",
    "hyperparameters = dict(C=C, penalty=penalty, solver=solver)\n",
    "\n",
    "#model = LogisticRegression(max_iter=1000) #  max_iter=1000\n",
    "#model.fit(x_train, y_train)\n",
    "\n",
    "# Создаем сетку поиска с использованием 5-кратной перекрестной проверки\n",
    "# clf = GridSearchCV(model, hyperparameters, cv=5, verbose=0, scoring='f1')\n",
    "# best_model = clf.fit(x_train, y_train)\n",
    "\n",
    "# View best hyperparameters\n",
    "#print('Лучшее Penalty:',    best_model.best_estimator_.get_params()['penalty'])\n",
    "#print('Лучшее C:',          best_model.best_estimator_.get_params()['C'])\n",
    "#print('Лучший solver:',     best_model.best_estimator_.get_params()['solver'])\n",
    "\n",
    "# Лучшее Penalty: l2\n",
    "# Лучшее C: 4.281332398719393\n",
    "# Лучший solver: newton-cg\n"
   ]
  },
  {
   "cell_type": "markdown",
   "metadata": {},
   "source": [
    "## Данные для Kaggle"
   ]
  },
  {
   "cell_type": "code",
   "execution_count": 170,
   "metadata": {},
   "outputs": [
    {
     "name": "stdout",
     "output_type": "stream",
     "text": [
      "<class 'pandas.core.frame.DataFrame'>\n",
      "RangeIndex: 36349 entries, 0 to 36348\n",
      "Data columns (total 2 columns):\n",
      " #   Column     Non-Null Count  Dtype  \n",
      "---  ------     --------------  -----  \n",
      " 0   client_id  36349 non-null  int64  \n",
      " 1   default    36349 non-null  float64\n",
      "dtypes: float64(1), int64(1)\n",
      "memory usage: 568.1 KB\n"
     ]
    }
   ],
   "source": [
    "sample_submission0 = pd.read_csv(DATA_DIR+'/sample_submission.csv')\n",
    "predict_kgtest = model_balance.predict_proba(x_kgtest)\n",
    "predict_kgtest = predict_kgtest[:,1]\n",
    "sample_submission = pd.DataFrame(client_id_kgtest, columns=['client_id'])\n",
    "sample_submission['default'] = predict_kgtest\n",
    "sample_submission.to_csv('submission.csv', index=False)\n",
    "sample_submission.info()"
   ]
  },
  {
   "cell_type": "markdown",
   "metadata": {},
   "source": [
    "Выводы.\n",
    "Достигнут ROC_AUC=0.752\n",
    "Параметр F1=0.7192\n",
    "В повышении параметра качества основную роль сыграла сбалансированная выборка.\n",
    "Подбор гиперпараметров ещё не достаточно мной отработан и результат не улучшил.\n",
    "Работа с выбросами не проводилась, можно было исключить ещё мадозначащие параметры,\n",
    "но не укладывался в тайминг.\n"
   ]
  }
 ],
 "metadata": {
  "kernelspec": {
   "display_name": "Python 3",
   "language": "python",
   "name": "python3"
  },
  "language_info": {
   "codemirror_mode": {
    "name": "ipython",
    "version": 3
   },
   "file_extension": ".py",
   "mimetype": "text/x-python",
   "name": "python",
   "nbconvert_exporter": "python",
   "pygments_lexer": "ipython3",
   "version": "3.7.6"
  }
 },
 "nbformat": 4,
 "nbformat_minor": 4
}
